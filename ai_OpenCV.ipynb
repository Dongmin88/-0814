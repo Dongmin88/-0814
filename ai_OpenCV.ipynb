{
 "cells": [
  {
   "cell_type": "code",
   "execution_count": 5,
   "metadata": {},
   "outputs": [
    {
     "name": "stdout",
     "output_type": "stream",
     "text": [
      "Running on local URL:  http://127.0.0.1:7862\n",
      "\n",
      "To create a public link, set `share=True` in `launch()`.\n"
     ]
    },
    {
     "data": {
      "text/html": [
       "<div><iframe src=\"http://127.0.0.1:7862/\" width=\"100%\" height=\"500\" allow=\"autoplay; camera; microphone; clipboard-read; clipboard-write;\" frameborder=\"0\" allowfullscreen></iframe></div>"
      ],
      "text/plain": [
       "<IPython.core.display.HTML object>"
      ]
     },
     "metadata": {},
     "output_type": "display_data"
    },
    {
     "data": {
      "text/plain": []
     },
     "execution_count": 5,
     "metadata": {},
     "output_type": "execute_result"
    }
   ],
   "source": [
    "import gradio as gr\n",
    "import cv2\n",
    "\n",
    "cascPath = cv2.data.haarcascades + 'haarcascade_frontalface_default.xml'  \n",
    "faceCascade = cv2.CascadeClassifier(cascPath)\n",
    "\n",
    "#얼굴 인식\n",
    "\n",
    "def detect_faces(image):\n",
    "    #이미지를 OpenCV 형식으로 변환\n",
    "    image = cv2.cvtColor(image, cv2.COLOR_BGR2RGB)\n",
    "    #얼굴을 검출합니다.\n",
    "    faces = faceCascade.detectMultiScale(image, scaleFactor=1.1, minNeighbors=5, minSize=[30,30], flags=cv2.CASCADE_SCALE_IMAGE)\n",
    "    \n",
    "    for face in faces:\n",
    "        x,y,w,h = face\n",
    "        cv2.rectangle(image, (x,y), (x+w,y+h),(0,255,0), 2)\n",
    "    \n",
    "    #검출된 얼굴에 사각형을 그리고\n",
    "    \n",
    "    #이미지를 다시 출력 할 수 있는 이미지 형태인 RGB 형태로 전환\n",
    "    image = cv2.cvtColor(image, cv2.COLOR_BGR2RGB)\n",
    "    #이미지 리턴\n",
    "    return image\n",
    "    \n",
    "\n",
    "with gr.Blocks() as demo:\n",
    "    \n",
    "    with gr.Row():\n",
    "        webcam_input = gr.Image(label='Camera', sources='webcam', streaming=True)\n",
    "        output_image = gr.Image(label='Output camera')\n",
    "    def update(image):\n",
    "        return detect_faces(image)\n",
    "        \n",
    "    webcam_input.stream(fn=update, inputs=webcam_input, outputs=output_image)\n",
    "\n",
    "demo.launch()"
   ]
  }
 ],
 "metadata": {
  "kernelspec": {
   "display_name": "Python 3",
   "language": "python",
   "name": "python3"
  },
  "language_info": {
   "codemirror_mode": {
    "name": "ipython",
    "version": 3
   },
   "file_extension": ".py",
   "mimetype": "text/x-python",
   "name": "python",
   "nbconvert_exporter": "python",
   "pygments_lexer": "ipython3",
   "version": "3.12.4"
  }
 },
 "nbformat": 4,
 "nbformat_minor": 2
}
