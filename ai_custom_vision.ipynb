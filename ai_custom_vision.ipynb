{
 "cells": [
  {
   "cell_type": "code",
   "execution_count": 44,
   "metadata": {},
   "outputs": [],
   "source": [
    "from azure.cognitiveservices.vision.customvision.training import CustomVisionTrainingClient\n",
    "from azure.cognitiveservices.vision.customvision.prediction import CustomVisionPredictionClient\n",
    "from azure.cognitiveservices.vision.customvision.training.models import ImageFileCreateBatch, ImageIdCreateEntry, Region, ImageFileCreateEntry\n",
    "from msrest.authentication import ApiKeyCredentials\n",
    "import os, time, uuid\n",
    "\n",
    "endpoint = \"https://b03mlcv20240717.cognitiveservices.azure.com/\"\n",
    "prediction_endpoint = 'https://b03mlcv20240717-prediction.cognitiveservices.azure.com/'\n",
    "training_key = \"10f02e33d99848a980dca38210d41bbf\"\n",
    "prediction_key = \"b0f7d07bbe674601aa2aadba2fb994c2\"\n",
    "prediction_resource_id = \"/subscriptions/b850d62a-25fe-4d3a-9697-ea40449528a9/resourceGroups/B03-MLDTest/providers/Microsoft.CognitiveServices/accounts/B03MLCV20240717-Prediction\"\n",
    "\n",
    "\n",
    "credentials = ApiKeyCredentials(in_headers={\"Training-key\": training_key})\n",
    "trainer = CustomVisionTrainingClient(endpoint, credentials)\n",
    "prediction_credentials = ApiKeyCredentials(in_headers={\"Prediction-key\": prediction_key})\n",
    "predictor = CustomVisionPredictionClient(prediction_endpoint, prediction_credentials)"
   ]
  },
  {
   "cell_type": "code",
   "execution_count": 45,
   "metadata": {},
   "outputs": [
    {
     "name": "stdout",
     "output_type": "stream",
     "text": [
      "{'additional_properties': {}, 'id': 'da2e3a8a-40a5-4171-82f4-58522f70fbc1', 'name': 'General', 'type': 'ObjectDetection', 'exportable': False, 'enabled': True, 'exportable_platforms': [], 'model_information': None}\n"
     ]
    }
   ],
   "source": [
    "publish_iteration_name = 'b03-kitchen-v1'\n",
    "project_name= 'b03-customvision3'\n",
    "\n",
    "obj_detection_domain = None\n",
    "for domain in trainer.get_domains():\n",
    "    if domain.type == 'ObjectDetection' and domain.name =='General':\n",
    "        obj_detection_domain = domain\n",
    "        break\n",
    "\n",
    "print(obj_detection_domain)"
   ]
  },
  {
   "cell_type": "markdown",
   "metadata": {},
   "source": [
    " ### Create Project"
   ]
  },
  {
   "cell_type": "code",
   "execution_count": 19,
   "metadata": {},
   "outputs": [
    {
     "name": "stdout",
     "output_type": "stream",
     "text": [
      "기존 프로젝트 'b03-customvision3'를 찾았습니다.\n"
     ]
    }
   ],
   "source": [
    "def get_or_create_project(trainer, project_name, domain_id):\n",
    "    # 모든 프로젝트를 가져오기\n",
    "    all_projects = trainer.get_projects()\n",
    "\n",
    "    # 동일한 이름의 프로젝트가 있는지 확인\n",
    "    for project in all_projects:\n",
    "        if project.name == project_name:\n",
    "            print(f\"기존 프로젝트 '{project_name}'를 찾았습니다.\")\n",
    "            return project\n",
    "\n",
    "    # 동일한 이름의 프로젝트가 없으면 새로 생성\n",
    "    print(f\"프로젝트 '{project_name}'를 찾을 수 없습니다. 새로 생성합니다.\")\n",
    "    project = trainer.create_project(project_name, domain_id=domain_id)\n",
    "    return project\n",
    "\n",
    "# 프로젝트 가져오기 또는 생성하기\n",
    "project = get_or_create_project(trainer, project_name, domain.id)\n",
    "\n",
    "#project = trainer.create_project(project_name, domain_id=obj_detection_domain.id)"
   ]
  },
  {
   "cell_type": "code",
   "execution_count": 4,
   "metadata": {},
   "outputs": [],
   "source": [
    "fork_tag = trainer.create_tag(project_id=project.id, name='fork')\n",
    "scissors_tag = trainer.create_tag(project.id,'scissors')"
   ]
  },
  {
   "cell_type": "code",
   "execution_count": 5,
   "metadata": {},
   "outputs": [],
   "source": [
    "fork_image_regions = {\n",
    "    \"fork_1\": [ 0.145833328, 0.3509314, 0.5894608, 0.238562092 ],\n",
    "    \"fork_2\": [ 0.294117659, 0.216944471, 0.534313738, 0.5980392 ],\n",
    "    \"fork_3\": [ 0.09191177, 0.0682516545, 0.757352948, 0.6143791 ],\n",
    "    \"fork_4\": [ 0.254901975, 0.185898721, 0.5232843, 0.594771266 ],\n",
    "    \"fork_5\": [ 0.2365196, 0.128709182, 0.5845588, 0.71405226 ],\n",
    "    \"fork_6\": [ 0.115196079, 0.133611143, 0.676470637, 0.6993464 ],\n",
    "    \"fork_7\": [ 0.164215669, 0.31008172, 0.767156839, 0.410130739 ],\n",
    "    \"fork_8\": [ 0.118872553, 0.318251669, 0.817401946, 0.225490168 ],\n",
    "    \"fork_9\": [ 0.18259804, 0.2136765, 0.6335784, 0.643790841 ],\n",
    "    \"fork_10\": [ 0.05269608, 0.282303959, 0.8088235, 0.452614367 ],\n",
    "    \"fork_11\": [ 0.05759804, 0.0894935, 0.9007353, 0.3251634 ],\n",
    "    \"fork_12\": [ 0.3345588, 0.07315363, 0.375, 0.9150327 ],\n",
    "    \"fork_13\": [ 0.269607842, 0.194068655, 0.4093137, 0.6732026 ],\n",
    "    \"fork_14\": [ 0.143382356, 0.218578458, 0.7977941, 0.295751631 ],\n",
    "    \"fork_15\": [ 0.19240196, 0.0633497, 0.5710784, 0.8398692 ],\n",
    "    \"fork_16\": [ 0.140931368, 0.480016381, 0.6838235, 0.240196079 ],\n",
    "    \"fork_17\": [ 0.305147052, 0.2512582, 0.4791667, 0.5408496 ],\n",
    "    \"fork_18\": [ 0.234068632, 0.445702642, 0.6127451, 0.344771236 ],\n",
    "    \"fork_19\": [ 0.219362751, 0.141781077, 0.5919118, 0.6683006 ],\n",
    "    \"fork_20\": [ 0.180147052, 0.239820287, 0.6887255, 0.235294119 ]\n",
    "}\n",
    " \n",
    "scissors_image_regions = {\n",
    "    \"scissors_1\": [ 0.4007353, 0.194068655, 0.259803921, 0.6617647 ],\n",
    "    \"scissors_2\": [ 0.426470578, 0.185898721, 0.172794119, 0.5539216 ],\n",
    "    \"scissors_3\": [ 0.289215684, 0.259428144, 0.403186262, 0.421568632 ],\n",
    "    \"scissors_4\": [ 0.343137264, 0.105833367, 0.332107842, 0.8055556 ],\n",
    "    \"scissors_5\": [ 0.3125, 0.09766343, 0.435049027, 0.71405226 ],\n",
    "    \"scissors_6\": [ 0.379901975, 0.24308826, 0.32107842, 0.5718954 ],\n",
    "    \"scissors_7\": [ 0.341911763, 0.20714055, 0.3137255, 0.6356209 ],\n",
    "    \"scissors_8\": [ 0.231617644, 0.08459154, 0.504901946, 0.8480392 ],\n",
    "    \"scissors_9\": [ 0.170343131, 0.332957536, 0.767156839, 0.403594762 ],\n",
    "    \"scissors_10\": [ 0.204656869, 0.120539248, 0.5245098, 0.743464053 ],\n",
    "    \"scissors_11\": [ 0.05514706, 0.159754932, 0.799019635, 0.730392158 ],\n",
    "    \"scissors_12\": [ 0.265931368, 0.169558853, 0.5061275, 0.606209159 ],\n",
    "    \"scissors_13\": [ 0.241421565, 0.184264734, 0.448529422, 0.6830065 ],\n",
    "    \"scissors_14\": [ 0.05759804, 0.05027781, 0.75, 0.882352948 ],\n",
    "    \"scissors_15\": [ 0.191176474, 0.169558853, 0.6936275, 0.6748366 ],\n",
    "    \"scissors_16\": [ 0.1004902, 0.279036, 0.6911765, 0.477124184 ],\n",
    "    \"scissors_17\": [ 0.2720588, 0.131977156, 0.4987745, 0.6911765 ],\n",
    "    \"scissors_18\": [ 0.180147052, 0.112369314, 0.6262255, 0.6666667 ],\n",
    "    \"scissors_19\": [ 0.333333343, 0.0274019931, 0.443627447, 0.852941155 ],\n",
    "    \"scissors_20\": [ 0.158088237, 0.04047389, 0.6691176, 0.843137264 ]\n",
    "}"
   ]
  },
  {
   "cell_type": "markdown",
   "metadata": {},
   "source": [
    " ### 업로드"
   ]
  },
  {
   "cell_type": "code",
   "execution_count": 6,
   "metadata": {},
   "outputs": [],
   "source": [
    "base_image_location = os.path.join('images')"
   ]
  },
  {
   "cell_type": "code",
   "execution_count": 13,
   "metadata": {},
   "outputs": [],
   "source": [
    "tagged_images_with_regions = []\n",
    "\n",
    "for file_name in fork_image_regions.keys():\n",
    "    x,y,w,h = fork_image_regions[file_name]\n",
    "    regions = [Region(tag_id=fork_tag.id, left=x,top=y,width=w,height=h)]\n",
    "    \n",
    "    with open(os.path.join(base_image_location,'fork','{}.jpg'.format(file_name)),'rb')as image:\n",
    "        image_data=image.read()\n",
    "        tagged_images_with_regions.append(ImageFileCreateEntry(name=file_name, contents=image_data, regions=regions))\n"
   ]
  },
  {
   "cell_type": "code",
   "execution_count": 15,
   "metadata": {},
   "outputs": [
    {
     "name": "stdout",
     "output_type": "stream",
     "text": [
      "20\n"
     ]
    }
   ],
   "source": [
    "print(len(tagged_images_with_regions))"
   ]
  },
  {
   "cell_type": "code",
   "execution_count": 16,
   "metadata": {},
   "outputs": [
    {
     "name": "stdout",
     "output_type": "stream",
     "text": [
      "succed\n"
     ]
    }
   ],
   "source": [
    "upload_result = trainer.create_images_from_files(project_id=project.id, batch=ImageFileCreateBatch(images=tagged_images_with_regions))\n",
    "\n",
    "if upload_result.is_batch_successful:\n",
    "    print('succed')\n",
    "else:\n",
    "    for image in upload_result.images:\n",
    "        print('image status: ', image.status)"
   ]
  },
  {
   "cell_type": "code",
   "execution_count": 20,
   "metadata": {},
   "outputs": [
    {
     "name": "stdout",
     "output_type": "stream",
     "text": [
      "image status:  OKDuplicate\n",
      "image status:  OKDuplicate\n",
      "image status:  OKDuplicate\n",
      "image status:  OKDuplicate\n",
      "image status:  OKDuplicate\n",
      "image status:  OKDuplicate\n",
      "image status:  OKDuplicate\n",
      "image status:  OKDuplicate\n",
      "image status:  OKDuplicate\n",
      "image status:  OKDuplicate\n",
      "image status:  OKDuplicate\n",
      "image status:  OKDuplicate\n",
      "image status:  OKDuplicate\n",
      "image status:  OKDuplicate\n",
      "image status:  OKDuplicate\n",
      "image status:  OKDuplicate\n",
      "image status:  OKDuplicate\n",
      "image status:  OKDuplicate\n",
      "image status:  OKDuplicate\n",
      "image status:  OKDuplicate\n",
      "image status:  OKDuplicate\n",
      "image status:  OKDuplicate\n",
      "image status:  OKDuplicate\n",
      "image status:  OKDuplicate\n",
      "image status:  OKDuplicate\n",
      "image status:  OKDuplicate\n",
      "image status:  OKDuplicate\n",
      "image status:  OKDuplicate\n",
      "image status:  OKDuplicate\n",
      "image status:  OKDuplicate\n",
      "image status:  OKDuplicate\n",
      "image status:  OKDuplicate\n",
      "image status:  OKDuplicate\n",
      "image status:  OKDuplicate\n",
      "image status:  OKDuplicate\n",
      "image status:  OKDuplicate\n",
      "image status:  OKDuplicate\n",
      "image status:  OKDuplicate\n",
      "image status:  OKDuplicate\n",
      "image status:  OKDuplicate\n",
      "image status:  OKDuplicate\n",
      "image status:  OKDuplicate\n",
      "image status:  OKDuplicate\n",
      "image status:  OKDuplicate\n",
      "image status:  OKDuplicate\n",
      "image status:  OKDuplicate\n",
      "image status:  OKDuplicate\n",
      "image status:  OKDuplicate\n",
      "image status:  OKDuplicate\n",
      "image status:  OKDuplicate\n",
      "image status:  OKDuplicate\n",
      "image status:  OKDuplicate\n",
      "image status:  OKDuplicate\n",
      "image status:  OKDuplicate\n",
      "image status:  OKDuplicate\n",
      "image status:  OKDuplicate\n",
      "image status:  OKDuplicate\n",
      "image status:  OKDuplicate\n",
      "image status:  OKDuplicate\n",
      "image status:  OKDuplicate\n"
     ]
    }
   ],
   "source": [
    "for file_name in scissors_image_regions.keys():\n",
    "    x,y,w,h = scissors_image_regions[file_name]\n",
    "    regions = [Region(tag_id=scissors_tag.id, left=x,top=y,width=w,height=h)]\n",
    "    \n",
    "    with open(os.path.join(base_image_location,'scissors','{}.jpg'.format(file_name)),'rb')as image:\n",
    "        image_data=image.read()\n",
    "        tagged_images_with_regions.append(ImageFileCreateEntry(name=file_name, contents=image_data, regions=regions))\n",
    "\n",
    "upload_result = trainer.create_images_from_files(project_id=project.id, batch=ImageFileCreateBatch(images=tagged_images_with_regions))\n",
    "\n",
    "if upload_result.is_batch_successful:\n",
    "    print('succed')\n",
    "else:\n",
    "    for image in upload_result.images:\n",
    "        print('image status: ', image.status)"
   ]
  },
  {
   "cell_type": "code",
   "execution_count": 21,
   "metadata": {},
   "outputs": [
    {
     "name": "stdout",
     "output_type": "stream",
     "text": [
      "Train Status: Training\n",
      "Train Status: Training\n",
      "Train Status: Training\n",
      "Train Status: Training\n",
      "Train Status: Training\n",
      "Train Status: Training\n",
      "Train Status: Training\n",
      "Train Status: Training\n",
      "Train Status: Training\n",
      "Train Status: Training\n",
      "Train Status: Training\n",
      "Train Status: Training\n",
      "Train Status: Training\n",
      "Train Status: Training\n",
      "Train Status: Training\n",
      "Train Status: Training\n",
      "Train Status: Training\n",
      "Train Status: Training\n",
      "Train Status: Training\n",
      "Train Status: Training\n",
      "Train Status: Training\n",
      "Train Status: Training\n",
      "Train Status: Training\n",
      "Train Status: Training\n",
      "Train Status: Training\n",
      "Train Status: Training\n",
      "Train Status: Training\n",
      "Train Status: Training\n",
      "Train Status: Training\n",
      "Train Status: Training\n",
      "Train Status: Training\n",
      "Train Status: Training\n",
      "Train Status: Training\n",
      "Train Status: Training\n",
      "Train Status: Training\n",
      "Train Status: Training\n",
      "Train Status: Training\n",
      "Train Status: Training\n",
      "Train Status: Training\n",
      "Train Status: Training\n",
      "Train Status: Training\n",
      "Train Status: Training\n",
      "Train Status: Training\n",
      "Train Status: Training\n",
      "Train Status: Training\n",
      "Train Status: Training\n",
      "Train Status: Training\n",
      "Train Status: Training\n",
      "Train Status: Training\n",
      "Train Status: Training\n",
      "Train Status: Training\n",
      "Train Status: Training\n",
      "Train Status: Training\n",
      "Train Status: Training\n",
      "Train Status: Training\n",
      "Train Status: Training\n",
      "Train Status: Training\n",
      "Train Status: Training\n",
      "Train Status: Training\n",
      "Train Status: Training\n",
      "Train Status: Training\n",
      "Train Status: Training\n",
      "Train Status: Training\n",
      "Train Status: Training\n",
      "Train Status: Training\n",
      "Train Status: Training\n",
      "Train Status: Training\n",
      "Train Status: Training\n",
      "Train Status: Training\n",
      "Train Status: Training\n",
      "Train Status: Training\n",
      "Train Status: Training\n",
      "Train Status: Training\n",
      "Train Status: Training\n",
      "Train Status: Training\n",
      "Train Status: Training\n",
      "Train Status: Training\n",
      "Train Status: Training\n",
      "Train Status: Training\n",
      "Train Status: Training\n",
      "Train Status: Training\n",
      "Train Status: Training\n",
      "Train Status: Training\n",
      "Train Status: Training\n",
      "Train Status: Training\n",
      "Train Status: Training\n",
      "Train Status: Training\n",
      "Train Status: Training\n",
      "Train Status: Training\n",
      "Train Status: Completed\n",
      "Completed\n"
     ]
    }
   ],
   "source": [
    "iteration = trainer.train_project(project_id=project.id)\n",
    "\n",
    "while iteration.status != 'Completed':\n",
    "    iteration = trainer.get_iteration(project.id, iteration.id)\n",
    "    print('Train Status: ' + iteration.status)\n",
    "    time.sleep(3)\n",
    "    \n",
    "print('Completed')"
   ]
  },
  {
   "cell_type": "markdown",
   "metadata": {},
   "source": [
    " ### Publish"
   ]
  },
  {
   "cell_type": "code",
   "execution_count": 46,
   "metadata": {},
   "outputs": [
    {
     "name": "stdout",
     "output_type": "stream",
     "text": [
      "True\n"
     ]
    }
   ],
   "source": [
    "#publish\n",
    "publish = trainer.publish_iteration(project_id=project.id, iteration_id=iteration.id, publish_name=publish_iteration_name, prediction_id=prediction_resource_id)\n",
    "print(publish)"
   ]
  },
  {
   "cell_type": "code",
   "execution_count": 50,
   "metadata": {},
   "outputs": [],
   "source": [
    "with open(os.path.join(base_image_location,'test','test_image.jpg'),'rb') as image:\n",
    "    image_data=image.read()\n",
    "response = predictor.detect_image(project_id=project.id, published_name=publish_iteration_name, image_data=image_data)\n"
   ]
  },
  {
   "cell_type": "code",
   "execution_count": 58,
   "metadata": {},
   "outputs": [
    {
     "name": "stdout",
     "output_type": "stream",
     "text": [
      "fork 81.24\n"
     ]
    }
   ],
   "source": [
    "for prediction in response.predictions:\n",
    "    if prediction.probability>0.05:\n",
    "        print(prediction.tag_name, '{:.2f}'.format(prediction.probability*100))"
   ]
  }
 ],
 "metadata": {
  "kernelspec": {
   "display_name": "Python 3",
   "language": "python",
   "name": "python3"
  },
  "language_info": {
   "codemirror_mode": {
    "name": "ipython",
    "version": 3
   },
   "file_extension": ".py",
   "mimetype": "text/x-python",
   "name": "python",
   "nbconvert_exporter": "python",
   "pygments_lexer": "ipython3",
   "version": "3.12.4"
  }
 },
 "nbformat": 4,
 "nbformat_minor": 2
}
